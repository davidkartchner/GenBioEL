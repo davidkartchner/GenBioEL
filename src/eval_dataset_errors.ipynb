{
 "cells": [
  {
   "cell_type": "code",
   "execution_count": 1,
   "metadata": {},
   "outputs": [],
   "source": [
    "import sys\n",
    "from tqdm import tqdm, trange\n",
    "import torch\n",
    "\n",
    "import pandas as pd\n",
    "import numpy as np\n",
    "\n",
    "from models import BartEntityPromptModel\n",
    "from transformers import BartTokenizer, BartConfig\n",
    "\n",
    "from datagen import prepare_trainer_dataset_fine"
   ]
  },
  {
   "cell_type": "code",
   "execution_count": 2,
   "metadata": {},
   "outputs": [],
   "source": [
    "# tokenizer = BartTokenizer.from_pretrained('./bigbio_/models_checkpoint/medmentions_st21pv/checkpoint-20000/')\n",
    "tokenizer = BartTokenizer.from_pretrained('facebook/bart-large')\n",
    "dataset_path = './bigbio_/data/medmentions_st21pv/'"
   ]
  },
  {
   "cell_type": "code",
   "execution_count": 3,
   "metadata": {},
   "outputs": [
    {
     "name": "stderr",
     "output_type": "stream",
     "text": [
      "40864it [00:03, 13176.60it/s]\n",
      "100%|██████████| 2/2 [00:03<00:00,  1.89s/it]\n",
      "100%|██████████| 6/6 [00:03<00:00,  1.70it/s]\n",
      "40143it [00:04, 8958.55it/s] \n",
      "100%|██████████| 2/2 [00:03<00:00,  1.98s/it]\n",
      "100%|██████████| 6/6 [00:03<00:00,  1.78it/s]\n"
     ]
    }
   ],
   "source": [
    "_, dev_dataset, test_dataset = prepare_trainer_dataset_fine(\n",
    "        tokenizer,\n",
    "        dataset_path,\n",
    "        prefix_mention_is=True,\n",
    "        evaluate=True,\n",
    "    )"
   ]
  },
  {
   "cell_type": "code",
   "execution_count": 5,
   "metadata": {},
   "outputs": [
    {
     "name": "stderr",
     "output_type": "stream",
     "text": [
      "100%|██████████| 40143/40143 [00:23<00:00, 1724.81it/s]\n"
     ]
    }
   ],
   "source": [
    "# test_dataset checks\n",
    "input_ids = []\n",
    "attention_mask = []\n",
    "decoder_input_ids = []\n",
    "\n",
    "for i in trange(len(test_dataset)):\n",
    "    input_ids.append(test_dataset[i][\"input_ids\"])\n",
    "    attention_mask.append(test_dataset[i][\"attention_mask\"])\n",
    "    decoder_input_ids.append(test_dataset[i][\"decoder_input_ids_test\"])\n"
   ]
  },
  {
   "cell_type": "code",
   "execution_count": 4,
   "metadata": {},
   "outputs": [
    {
     "name": "stderr",
     "output_type": "stream",
     "text": [
      "  0%|          | 0/40864 [00:00<?, ?it/s]\n"
     ]
    },
    {
     "ename": "IndexError",
     "evalue": "list index out of range",
     "output_type": "error",
     "traceback": [
      "\u001b[0;31m---------------------------------------------------------------------------\u001b[0m",
      "\u001b[0;31mIndexError\u001b[0m                                Traceback (most recent call last)",
      "\u001b[1;32m/nethome/dkartchner3/research/entity_linking/el-robustness-comparison/biogenel/src/eval_dataset_errors.ipynb Cell 5\u001b[0m in \u001b[0;36m<cell line: 5>\u001b[0;34m()\u001b[0m\n\u001b[1;32m      <a href='vscode-notebook-cell://ssh-remote%2Bmitch/nethome/dkartchner3/research/entity_linking/el-robustness-comparison/biogenel/src/eval_dataset_errors.ipynb#W5sdnNjb2RlLXJlbW90ZQ%3D%3D?line=2'>3</a>\u001b[0m decoder_input_ids \u001b[39m=\u001b[39m []\n\u001b[1;32m      <a href='vscode-notebook-cell://ssh-remote%2Bmitch/nethome/dkartchner3/research/entity_linking/el-robustness-comparison/biogenel/src/eval_dataset_errors.ipynb#W5sdnNjb2RlLXJlbW90ZQ%3D%3D?line=4'>5</a>\u001b[0m \u001b[39mfor\u001b[39;00m i \u001b[39min\u001b[39;00m trange(\u001b[39mlen\u001b[39m(dev_dataset)):\n\u001b[0;32m----> <a href='vscode-notebook-cell://ssh-remote%2Bmitch/nethome/dkartchner3/research/entity_linking/el-robustness-comparison/biogenel/src/eval_dataset_errors.ipynb#W5sdnNjb2RlLXJlbW90ZQ%3D%3D?line=5'>6</a>\u001b[0m     input_ids\u001b[39m.\u001b[39mappend(dev_dataset[i][\u001b[39m\"\u001b[39m\u001b[39minput_ids\u001b[39m\u001b[39m\"\u001b[39m])\n\u001b[1;32m      <a href='vscode-notebook-cell://ssh-remote%2Bmitch/nethome/dkartchner3/research/entity_linking/el-robustness-comparison/biogenel/src/eval_dataset_errors.ipynb#W5sdnNjb2RlLXJlbW90ZQ%3D%3D?line=6'>7</a>\u001b[0m     attention_mask\u001b[39m.\u001b[39mappend(dev_dataset[i][\u001b[39m\"\u001b[39m\u001b[39mattention_mask\u001b[39m\u001b[39m\"\u001b[39m])\n\u001b[1;32m      <a href='vscode-notebook-cell://ssh-remote%2Bmitch/nethome/dkartchner3/research/entity_linking/el-robustness-comparison/biogenel/src/eval_dataset_errors.ipynb#W5sdnNjb2RlLXJlbW90ZQ%3D%3D?line=7'>8</a>\u001b[0m     decoder_input_ids\u001b[39m.\u001b[39mappend(dev_dataset[i][\u001b[39m\"\u001b[39m\u001b[39mdecoder_input_ids_test\u001b[39m\u001b[39m\"\u001b[39m])\n",
      "File \u001b[0;32m/nvme/home/dkartchner3/research/entity_linking/el-robustness-comparison/biogenel/src/datagen/datageneration_finetune.py:29\u001b[0m, in \u001b[0;36mMedMentionsDataset.__getitem__\u001b[0;34m(self, idx)\u001b[0m\n\u001b[1;32m     26\u001b[0m \u001b[39m# the decoder atten mask has the same length as label of decoder input\u001b[39;00m\n\u001b[1;32m     27\u001b[0m \u001b[39mif\u001b[39;00m \u001b[39mself\u001b[39m\u001b[39m.\u001b[39mtest_set:\n\u001b[1;32m     28\u001b[0m     item[\u001b[39m\"\u001b[39m\u001b[39mdecoder_input_ids_test\u001b[39m\u001b[39m\"\u001b[39m] \u001b[39m=\u001b[39m torch\u001b[39m.\u001b[39mtensor(\n\u001b[0;32m---> 29\u001b[0m         \u001b[39mself\u001b[39;49m\u001b[39m.\u001b[39;49mlabels[\u001b[39m\"\u001b[39;49m\u001b[39mdecoder_input_ids_test\u001b[39;49m\u001b[39m\"\u001b[39;49m][idx]\n\u001b[1;32m     30\u001b[0m     )\n\u001b[1;32m     31\u001b[0m     item[\u001b[39m\"\u001b[39m\u001b[39mdecoder_attention_mask_test\u001b[39m\u001b[39m\"\u001b[39m] \u001b[39m=\u001b[39m torch\u001b[39m.\u001b[39mtensor(\n\u001b[1;32m     32\u001b[0m         \u001b[39mself\u001b[39m\u001b[39m.\u001b[39mlabels[\u001b[39m\"\u001b[39m\u001b[39mattention_mask_test\u001b[39m\u001b[39m\"\u001b[39m][idx]\n\u001b[1;32m     33\u001b[0m     )\n\u001b[1;32m     35\u001b[0m \u001b[39m# if self.labels['unlikelihood_tokens']:\u001b[39;00m\n\u001b[1;32m     36\u001b[0m \u001b[39m#     item['unlikelihood_mask'] = torch.zeros()\u001b[39;00m\n",
      "\u001b[0;31mIndexError\u001b[0m: list index out of range"
     ]
    }
   ],
   "source": [
    "input_ids = []\n",
    "attention_mask = []\n",
    "decoder_input_ids = []\n",
    "\n",
    "for i in trange(len(dev_dataset)):\n",
    "    input_ids.append(dev_dataset[i][\"input_ids\"])\n",
    "    attention_mask.append(dev_dataset[i][\"attention_mask\"])\n",
    "    decoder_input_ids.append(dev_dataset[i][\"decoder_input_ids_test\"])"
   ]
  },
  {
   "cell_type": "code",
   "execution_count": 13,
   "metadata": {},
   "outputs": [
    {
     "ename": "IndexError",
     "evalue": "list index out of range",
     "output_type": "error",
     "traceback": [
      "\u001b[0;31m---------------------------------------------------------------------------\u001b[0m",
      "\u001b[0;31mIndexError\u001b[0m                                Traceback (most recent call last)",
      "\u001b[1;32m/nethome/dkartchner3/research/entity_linking/el-robustness-comparison/biogenel/src/eval_dataset_errors.ipynb Cell 6\u001b[0m in \u001b[0;36m<cell line: 1>\u001b[0;34m()\u001b[0m\n\u001b[0;32m----> <a href='vscode-notebook-cell://ssh-remote%2Bmitch/nethome/dkartchner3/research/entity_linking/el-robustness-comparison/biogenel/src/eval_dataset_errors.ipynb#W4sdnNjb2RlLXJlbW90ZQ%3D%3D?line=0'>1</a>\u001b[0m \u001b[39mlen\u001b[39m(dev_dataset[\u001b[39m0\u001b[39m])\n",
      "File \u001b[0;32m/nvme/home/dkartchner3/research/entity_linking/el-robustness-comparison/biogenel/src/datagen/datageneration_finetune.py:29\u001b[0m, in \u001b[0;36mMedMentionsDataset.__getitem__\u001b[0;34m(self, idx)\u001b[0m\n\u001b[1;32m     26\u001b[0m \u001b[39m# the decoder atten mask has the same length as label of decoder input\u001b[39;00m\n\u001b[1;32m     27\u001b[0m \u001b[39mif\u001b[39;00m \u001b[39mself\u001b[39m\u001b[39m.\u001b[39mtest_set:\n\u001b[1;32m     28\u001b[0m     item[\u001b[39m\"\u001b[39m\u001b[39mdecoder_input_ids_test\u001b[39m\u001b[39m\"\u001b[39m] \u001b[39m=\u001b[39m torch\u001b[39m.\u001b[39mtensor(\n\u001b[0;32m---> 29\u001b[0m         \u001b[39mself\u001b[39;49m\u001b[39m.\u001b[39;49mlabels[\u001b[39m\"\u001b[39;49m\u001b[39mdecoder_input_ids_test\u001b[39;49m\u001b[39m\"\u001b[39;49m][idx]\n\u001b[1;32m     30\u001b[0m     )\n\u001b[1;32m     31\u001b[0m     item[\u001b[39m\"\u001b[39m\u001b[39mdecoder_attention_mask_test\u001b[39m\u001b[39m\"\u001b[39m] \u001b[39m=\u001b[39m torch\u001b[39m.\u001b[39mtensor(\n\u001b[1;32m     32\u001b[0m         \u001b[39mself\u001b[39m\u001b[39m.\u001b[39mlabels[\u001b[39m\"\u001b[39m\u001b[39mattention_mask_test\u001b[39m\u001b[39m\"\u001b[39m][idx]\n\u001b[1;32m     33\u001b[0m     )\n\u001b[1;32m     35\u001b[0m \u001b[39m# if self.labels['unlikelihood_tokens']:\u001b[39;00m\n\u001b[1;32m     36\u001b[0m \u001b[39m#     item['unlikelihood_mask'] = torch.zeros()\u001b[39;00m\n",
      "\u001b[0;31mIndexError\u001b[0m: list index out of range"
     ]
    }
   ],
   "source": [
    "len(dev_dataset[0])"
   ]
  },
  {
   "cell_type": "code",
   "execution_count": 16,
   "metadata": {},
   "outputs": [
    {
     "data": {
      "text/plain": [
       "40864"
      ]
     },
     "execution_count": 16,
     "metadata": {},
     "output_type": "execute_result"
    }
   ],
   "source": [
    "len(dev_dataset.labels['decoder_input_ids'])"
   ]
  },
  {
   "cell_type": "code",
   "execution_count": 19,
   "metadata": {},
   "outputs": [
    {
     "data": {
      "text/plain": [
       "40143"
      ]
     },
     "execution_count": 19,
     "metadata": {},
     "output_type": "execute_result"
    }
   ],
   "source": [
    "len(test_dataset.labels['decoder_input_ids_test'])"
   ]
  },
  {
   "cell_type": "code",
   "execution_count": null,
   "metadata": {},
   "outputs": [],
   "source": []
  }
 ],
 "metadata": {
  "kernelspec": {
   "display_name": "el-robustness",
   "language": "python",
   "name": "python3"
  },
  "language_info": {
   "codemirror_mode": {
    "name": "ipython",
    "version": 3
   },
   "file_extension": ".py",
   "mimetype": "text/x-python",
   "name": "python",
   "nbconvert_exporter": "python",
   "pygments_lexer": "ipython3",
   "version": "3.9.13"
  },
  "orig_nbformat": 4,
  "vscode": {
   "interpreter": {
    "hash": "b8f429b760dbf9b012b3ac69bc0c20ad885147b11fe7d141cd50535b2d760548"
   }
  }
 },
 "nbformat": 4,
 "nbformat_minor": 2
}
