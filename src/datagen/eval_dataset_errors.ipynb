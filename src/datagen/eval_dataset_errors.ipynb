{
 "cells": [
  {
   "cell_type": "code",
   "execution_count": 3,
   "metadata": {},
   "outputs": [],
   "source": [
    "import sys\n",
    "from tqdm.auto import tqdm\n",
    "import torch\n",
    "\n",
    "import pandas as pd\n",
    "import numpy as np"
   ]
  },
  {
   "cell_type": "code",
   "execution_count": 4,
   "metadata": {},
   "outputs": [
    {
     "name": "stdout",
     "output_type": "stream",
     "text": [
      "annotation\t  process_medic_dictionary.ipynb  temp\n",
      "conda_envs\t  Public\t\t\t  Templates\n",
      "data\t\t  public_repos\t\t\t  text_mining\n",
      "documentation\t  research\t\t\t  thinclient_drives\n",
      "examples.desktop  rubrix_backup.tar\t\t  umls\n",
      "google-cloud-sdk  school\t\t\t  Untitled1.ipynb\n",
      "nlm_software\t  seaborn-data\t\t\t  Untitled.ipynb\n",
      "nltk_data\t  semantic_scholar\t\t  utils\n",
      "packages\t  semmeddb\t\t\t  Videos\n",
      "Pictures\t  semrep\n",
      "pkgs\t\t  ta\n"
     ]
    }
   ],
   "source": [
    "!ls"
   ]
  },
  {
   "cell_type": "code",
   "execution_count": null,
   "metadata": {},
   "outputs": [],
   "source": []
  }
 ],
 "metadata": {
  "kernelspec": {
   "display_name": "el-robustness",
   "language": "python",
   "name": "python3"
  },
  "language_info": {
   "codemirror_mode": {
    "name": "ipython",
    "version": 3
   },
   "file_extension": ".py",
   "mimetype": "text/x-python",
   "name": "python",
   "nbconvert_exporter": "python",
   "pygments_lexer": "ipython3",
   "version": "3.9.13 | packaged by conda-forge | (main, May 27 2022, 16:56:21) \n[GCC 10.3.0]"
  },
  "orig_nbformat": 4,
  "vscode": {
   "interpreter": {
    "hash": "b8f429b760dbf9b012b3ac69bc0c20ad885147b11fe7d141cd50535b2d760548"
   }
  }
 },
 "nbformat": 4,
 "nbformat_minor": 2
}
